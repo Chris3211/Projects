{
 "cells": [
  {
   "cell_type": "code",
   "execution_count": 1,
   "metadata": {},
   "outputs": [
    {
     "name": "stdout",
     "output_type": "stream",
     "text": [
      "[4, 5, 7, 8, 10]\n"
     ]
    }
   ],
   "source": [
    "# Bubble Sort\n",
    "x = [10,8,4,7,5]\n",
    "def bubble_sort(list):\n",
    "    n = len(list)\n",
    "    for i in range(n-1):\n",
    "        for j in range(n-1,i,-1):      \n",
    "            if list[j] < list[j - 1]:      \n",
    "                list[j], list[j - 1] = list[j - 1], list[j]\n",
    "    return list\n",
    "print (bubble_sort(x))"
   ]
  },
  {
   "cell_type": "code",
   "execution_count": 105,
   "metadata": {},
   "outputs": [
    {
     "name": "stdout",
     "output_type": "stream",
     "text": [
      "[4, 5, 7, 8, 10]\n"
     ]
    }
   ],
   "source": [
    "# Insert Sort\n",
    "x = [10,8,4,7,5]\n",
    "def insert_sort(list):\n",
    "    for i in range(1,len(x)):\n",
    "        for j in range(i,0,-1):\n",
    "            if list[j] < list[j - 1]:\n",
    "                list[j], list[j - 1] = list[j - 1], list[j]\n",
    "    return list\n",
    "print(insert_sort(x))"
   ]
  },
  {
   "cell_type": "code",
   "execution_count": 106,
   "metadata": {},
   "outputs": [
    {
     "name": "stdout",
     "output_type": "stream",
     "text": [
      "[4, 5, 7, 8, 10]\n"
     ]
    }
   ],
   "source": [
    "# Shell Sort\n",
    "x = [10,8,4,7,5]\n",
    "def shell_sort(list):\n",
    "    n = len(list)\n",
    "    gap = n//2\n",
    "    while gap > 0:\n",
    "        for i in range(gap, n):\n",
    "            for j in range(i,0,-gap):\n",
    "                    if list[j] < list[j - gap]:\n",
    "                        list[j], list[j - gap] = list[j - gap], list[j]\n",
    "        gap = gap//2\n",
    "    return list\n",
    "print(shell_sort(x))"
   ]
  },
  {
   "cell_type": "code",
   "execution_count": 107,
   "metadata": {},
   "outputs": [
    {
     "name": "stdout",
     "output_type": "stream",
     "text": [
      "[4, 5, 7, 8, 10]\n"
     ]
    }
   ],
   "source": [
    "# Select Sort\n",
    "x = [10,8,4,7,5]\n",
    "def select_sort(list):\n",
    "    n = len(list)\n",
    "    for i in range(n-1):\n",
    "        min_index = i\n",
    "        for j in range(i+1,n):\n",
    "            if list[j] < list[min_index]:\n",
    "                min_index = j\n",
    "            list[i], list[min_index] = list[min_index], list[i]\n",
    "    return list\n",
    "print(select_sort(x))"
   ]
  },
  {
   "cell_type": "code",
   "execution_count": 109,
   "metadata": {},
   "outputs": [
    {
     "name": "stdout",
     "output_type": "stream",
     "text": [
      "[1, 2, 4, 5, 6, 7, 8, 9, 0]\n"
     ]
    }
   ],
   "source": [
    "# Delete repeated elements\n",
    "a=[1,2,4,2,4,5,6,5,7,8,9,0]\n",
    "b={}\n",
    "b=b.fromkeys(a)\n",
    "c=list(b.keys())\n",
    "print(c)"
   ]
  },
  {
   "cell_type": "code",
   "execution_count": 1,
   "metadata": {},
   "outputs": [
    {
     "name": "stdout",
     "output_type": "stream",
     "text": [
      "VII\n"
     ]
    }
   ],
   "source": [
    "# Integer to Roman\n",
    "def intToRoman(num):\n",
    "        d={0:(\"\",\"I\",\"II\",\"III\",\"IV\",\"V\",\"VI\",\"VII\",\"VIII\",\"IX\"),\n",
    "           1:(\"\",\"X\",\"XX\",\"XXX\",\"XL\",\"L\",\"LX\",\"LXX\",\"LXXX\",\"XC\"),\n",
    "           2:(\"\",\"C\",\"CC\",\"CCC\",\"CD\",\"D\",\"DC\",\"DCC\",\"DCCC\",\"CM\"),\n",
    "           3:(\"\",\"M\",\"MM\",\"MMM\")}\n",
    "        s = ''\n",
    "        roman = []\n",
    "        roman.append(d[3][(num//1000)%10])\n",
    "        roman.append(d[2][(num//100)%10])\n",
    "        roman.append(d[1][(num//10)%10])\n",
    "        roman.append(d[0][num%10])\n",
    "        \n",
    "        for i in roman:\n",
    "            s = s + i\n",
    "        return s\n",
    "print(intToRoman(7))"
   ]
  },
  {
   "cell_type": "code",
   "execution_count": 2,
   "metadata": {},
   "outputs": [
    {
     "name": "stdout",
     "output_type": "stream",
     "text": [
      "3000\n"
     ]
    }
   ],
   "source": [
    "# Roman to Integer\n",
    "def RomanToint(s):\n",
    "    d ={'M': 1000,'D': 500 ,'C': 100,'L': 50,'X': 10,'V': 5,'I': 1}\n",
    "    sum = 0\n",
    "    for i in range(len(s)-1):\n",
    "        if d[s[i]] < d[s[i+1]]:\n",
    "            sum = sum - d[s[i]]\n",
    "        else:\n",
    "            sum = sum + d[s[i]]\n",
    "    sum = sum + d[s[-1]]\n",
    "    return sum\n",
    "print(RomanToint(\"MMM\"))"
   ]
  },
  {
   "cell_type": "code",
   "execution_count": 7,
   "metadata": {},
   "outputs": [
    {
     "name": "stdout",
     "output_type": "stream",
     "text": [
      "[1, 2]\n"
     ]
    }
   ],
   "source": [
    "# Two Sum\n",
    "def TwoSum(nums, target):\n",
    "    d = {}\n",
    "    n = len(nums)\n",
    "    count = 0\n",
    "    while count < n:\n",
    "        if target - nums[count] in d:\n",
    "            if d[target - nums[count]] < count:\n",
    "                return [d[target - nums[count]], count]\n",
    "        else:\n",
    "            d[nums[count]] = count\n",
    "        count += 1\n",
    "print(TwoSum([1,7,2,10], 9))"
   ]
  },
  {
   "cell_type": "code",
   "execution_count": 77,
   "metadata": {},
   "outputs": [
    {
     "name": "stdout",
     "output_type": "stream",
     "text": [
      "-321\n"
     ]
    }
   ],
   "source": [
    "# Reverse Integer_1\n",
    "def inverse(x):\n",
    "    a = 0\n",
    "    if x == 0:\n",
    "        return 0\n",
    "    if x > 0:\n",
    "        while x != 0:\n",
    "            a = a*10 + (x%10)\n",
    "            x = x//10\n",
    "    else:\n",
    "        x = -x\n",
    "        while x != 0:\n",
    "            a = a*10 + (x%10)\n",
    "            x = x//10\n",
    "        a = -a\n",
    "    if -2147483648 < a < 2147483648:\n",
    "        return a\n",
    "    else:\n",
    "        return 0\n",
    "print(inverse(-123))"
   ]
  },
  {
   "cell_type": "code",
   "execution_count": 50,
   "metadata": {},
   "outputs": [
    {
     "name": "stdout",
     "output_type": "stream",
     "text": [
      "fl\n"
     ]
    }
   ],
   "source": [
    "# Longest Common Prefix\n",
    "def longestCommonPrefix(strs):\n",
    "    if strs == []:\n",
    "        return ''\n",
    "    else:\n",
    "        for i in range(1, len(strs)):\n",
    "            n1 = len(strs[0])\n",
    "            n2 = len(strs[i])\n",
    "            if n1 < n2:\n",
    "                length = n1\n",
    "            else:\n",
    "                length = n2\n",
    "            strs[0] = strs[0][0:length]\n",
    "            for j in range(length):\n",
    "                if strs[0][j] != strs[i][j]:\n",
    "                    strs[0] = strs[0][0:j]\n",
    "                    break\n",
    "        return strs[0]\n",
    "print(longestCommonPrefix([\"flower\", \"flow\", \"flight\"]))"
   ]
  },
  {
   "cell_type": "code",
   "execution_count": 53,
   "metadata": {},
   "outputs": [
    {
     "name": "stdout",
     "output_type": "stream",
     "text": [
      "False\n"
     ]
    }
   ],
   "source": [
    "# Palindrome Number_1\n",
    "def isPalindrome(x):\n",
    "    a = x\n",
    "    b = 0\n",
    "    while a > 0:\n",
    "        b = b*10 +(a%10)\n",
    "        a = a//10\n",
    "    return b == x\n",
    "print(isPalindrome(121))"
   ]
  },
  {
   "cell_type": "code",
   "execution_count": 56,
   "metadata": {},
   "outputs": [
    {
     "name": "stdout",
     "output_type": "stream",
     "text": [
      "False\n"
     ]
    }
   ],
   "source": [
    "# Palindrome Number_2\n",
    "def isPalindrome(x):\n",
    "    str_x = str(x)\n",
    "    str_x_reverse = str_x[::-1]\n",
    "    return str_x_reverse == str_x\n",
    "print(isPalindrome(121))"
   ]
  },
  {
   "cell_type": "code",
   "execution_count": 2,
   "metadata": {},
   "outputs": [
    {
     "name": "stdout",
     "output_type": "stream",
     "text": [
      "30103991\n"
     ]
    }
   ],
   "source": [
    "# Reverse Integer_2\n",
    "def reverse(x):\n",
    "    if x == 0:\n",
    "        return 0\n",
    "    str_x = str(x)\n",
    "    if x > 0:\n",
    "        str_x_reverse = str_x[::-1]\n",
    "        int_x = int(str_x_reverse)\n",
    "    else:\n",
    "        str_x_reverse = str_x[1:][::-1]\n",
    "        int_x = -int(str_x_reverse)\n",
    "    \n",
    "    if -2147483648 < int_x < 2147483648:\n",
    "        return int_x\n",
    "    else:\n",
    "        return 0\n",
    "    \n",
    "print(reverse(19930103))"
   ]
  },
  {
   "cell_type": "code",
   "execution_count": 6,
   "metadata": {},
   "outputs": [
    {
     "name": "stdout",
     "output_type": "stream",
     "text": [
      "True\n"
     ]
    }
   ],
   "source": [
    "# Valid Parenthese\n",
    "stack = [None]\n",
    "d = {')': '(', ']': '[', '}': '{'}\n",
    "def isValid(s):\n",
    "    for char in s:\n",
    "        if char in d.keys():\n",
    "            if d[char] != stack.pop():\n",
    "                return False\n",
    "        else:\n",
    "            stack.append(char)\n",
    "    return len(stack) == 1\n",
    "print(isValid(\"{()}\"))\n"
   ]
  },
  {
   "cell_type": "code",
   "execution_count": 3,
   "metadata": {},
   "outputs": [
    {
     "name": "stdout",
     "output_type": "stream",
     "text": [
      "0 1 2 3 4 5 5  \n",
      "7\n",
      "0 -1 1 2 3 4 5 5  \n",
      "8\n",
      "True\n",
      "0 -1 1 2 3 4 5  \n"
     ]
    }
   ],
   "source": [
    "# Single Linked List\n",
    "class Node(object):\n",
    "    def __init__(self, data):\n",
    "        self.data = data\n",
    "        self.next = None\n",
    "\n",
    "class Single_linked_list(object):\n",
    "    def __init__(self, node = None):\n",
    "        self.head = node\n",
    "    \n",
    "    def isEmpty(self):\n",
    "        return self.head == None\n",
    "        \n",
    "    def length(self):\n",
    "        cur = self.head\n",
    "        count = 0\n",
    "        while cur != None:\n",
    "            count += 1\n",
    "            cur = cur.next\n",
    "        return count\n",
    "    \n",
    "    def travel(self):\n",
    "        cur = self.head\n",
    "        while cur != None:\n",
    "            print(cur.data, end=\" \")\n",
    "            cur = cur.next\n",
    "        print(\" \")\n",
    "     \n",
    "    def add(self, data):\n",
    "        node = Node(data)\n",
    "        node.next = self.head\n",
    "        self.head = node \n",
    "    \n",
    "    def append(self, data):\n",
    "        node = Node(data)\n",
    "        if self.isEmpty():\n",
    "            self.head = node\n",
    "        else:\n",
    "            cur = self.head\n",
    "            while cur.next != None:\n",
    "                cur = cur.next\n",
    "            cur.next = node\n",
    "            \n",
    "    def insert(self, pos, data):\n",
    "        if pos <= 0:\n",
    "             self.add(data)\n",
    "        elif pos > (self.length()-1):\n",
    "            self.append(data)\n",
    "        else:\n",
    "            node = Node(data)\n",
    "            pre = self.head\n",
    "            count = 0\n",
    "            while count < (pos-1):\n",
    "                count += 1\n",
    "                pre = pre.next\n",
    "            node.next = pre.next\n",
    "            pre.next = node\n",
    "        \n",
    "    def remove(self, data):\n",
    "        cur = self.head\n",
    "        pre = None\n",
    "        while cur != None:\n",
    "            if cur.data == data:\n",
    "                if cur == self.head:\n",
    "                    self.head = cur.next\n",
    "                else:\n",
    "                    pre.next = cur.next\n",
    "                break\n",
    "            else:\n",
    "                pre = cur\n",
    "                cur = cur.next\n",
    "    \n",
    "    def search(self, data):\n",
    "        cur = self.head\n",
    "        while cur != None:\n",
    "            if cur.data == data:\n",
    "                return True\n",
    "            else:\n",
    "                cur = cur.next\n",
    "        return False\n",
    "            \n",
    "\n",
    "if __name__ == \"__main__\":\n",
    "    ll = Single_linked_list()\n",
    "    ll.append(1)\n",
    "    ll.append(2)\n",
    "    ll.append(3)\n",
    "    ll.append(4)\n",
    "    ll.append(5)\n",
    "    ll.append(5)\n",
    "    ll.add(0)\n",
    "    ll.travel()\n",
    "    print(ll.length())\n",
    "    ll.insert(1,-1)\n",
    "    ll.travel()\n",
    "    print(ll.length())\n",
    "    print(ll.search(1))\n",
    "    ll.remove(5)\n",
    "    ll.travel()"
   ]
  },
  {
   "cell_type": "code",
   "execution_count": 7,
   "metadata": {},
   "outputs": [
    {
     "name": "stdout",
     "output_type": "stream",
     "text": [
      "1\n",
      "2\n",
      "3\n",
      "1\n",
      "3\n",
      "-1\n"
     ]
    }
   ],
   "source": [
    "#  Design Linked List -- Leetcode\n",
    "class Node(object):\n",
    "    def __init__(self, val):\n",
    "        self.val = val\n",
    "        self.next = None\n",
    "\n",
    "class MyLinkedList(object):\n",
    "\n",
    "    def __init__(self):\n",
    "        self.head = None\n",
    "        self.size = 0\n",
    "\n",
    "    def get(self, index):\n",
    "        if index < 0 or index >= self.size:\n",
    "            return -1\n",
    "        if self.head == None:\n",
    "            return -1\n",
    "        cur = self.head\n",
    "        count = 0\n",
    "        while count < index:\n",
    "            count += 1\n",
    "            cur = cur.next\n",
    "        return cur.val\n",
    "\n",
    "    def addAtHead(self, val):\n",
    "        node = Node(val)\n",
    "        node.next = self.head\n",
    "        self.head = node\n",
    "        self.size += 1\n",
    "\n",
    "    def addAtTail(self, val):\n",
    "        node = Node(val)\n",
    "        if self.head == None:\n",
    "            self.head = node\n",
    "        else:\n",
    "            cur = self.head\n",
    "            while cur.next != None:\n",
    "                cur = cur.next\n",
    "            cur.next = node \n",
    "        self.size += 1\n",
    "\n",
    "    def addAtIndex(self, index, val):\n",
    "        if index == self.size:\n",
    "            self.addAtTail(val)\n",
    "            return\n",
    "        if index < 0 or index > self.size:\n",
    "            return \n",
    "        \n",
    "        node = Node(val)\n",
    "        count = 0\n",
    "        pre = self.head\n",
    "        while count < (index - 1):\n",
    "            count += 1\n",
    "            pre = pre.next\n",
    "        node.next = pre.next\n",
    "        pre.next = node\n",
    "        self.size += 1\n",
    "\n",
    "    def deleteAtIndex(self, index):\n",
    "        cur = self.head\n",
    "        count = 0\n",
    "        if self.head == None:\n",
    "            return\n",
    "        if index < 0 or index >=self.size:\n",
    "            return\n",
    "        \n",
    "        while count < (index - 1):\n",
    "            count += 1\n",
    "            cur = cur.next\n",
    "        cur.next = cur.next.next\n",
    "        self.size -= 1\n",
    "        \n",
    "if __name__ =='__main__':\n",
    "    ll = MyLinkedList()\n",
    "    ll.addAtHead(1)\n",
    "    ll.addAtTail(3)\n",
    "    ll.addAtIndex(1,2)\n",
    "    print(ll.get(0))\n",
    "    print(ll.get(1))\n",
    "    print(ll.get(2))\n",
    "    ll.deleteAtIndex(1)\n",
    "    print(ll.get(0))\n",
    "    print(ll.get(1))\n",
    "    print(ll.get(2))"
   ]
  },
  {
   "cell_type": "code",
   "execution_count": 3,
   "metadata": {},
   "outputs": [
    {
     "name": "stdout",
     "output_type": "stream",
     "text": [
      "1 2 3 4\n",
      "4\n",
      "1 2 3 4 -1\n",
      "True\n",
      "2 3 4 -1\n"
     ]
    }
   ],
   "source": [
    "# Single Cycle Linked List\n",
    "class Node(object):\n",
    "    def __init__(self, data):\n",
    "        self.data = data\n",
    "        self.next = None\n",
    "\n",
    "class Single_cycle_linked_list(object):\n",
    "    def __init__(self, node = None):\n",
    "        self.head = node\n",
    "        if node:\n",
    "            node.next = node\n",
    "    \n",
    "    def isEmpty(self):\n",
    "        return self.head == None\n",
    "    \n",
    "    def length(self):\n",
    "        if self.isEmpty():\n",
    "            return 0\n",
    "        count = 1\n",
    "        cur = self.head\n",
    "        while cur.next != self.head:\n",
    "            count += 1\n",
    "            cur = cur.next\n",
    "        return count\n",
    "    \n",
    "    def travel(self):\n",
    "        if self.isEmpty():\n",
    "            return \n",
    "        cur = self.head\n",
    "        while cur.next != self.head:\n",
    "            print(cur.data, end = \" \")\n",
    "            cur = cur.next\n",
    "        print(cur.data)\n",
    "        \n",
    "    def add(self, data):\n",
    "        node = Node(data)\n",
    "        if self.isEmpty():\n",
    "            self.head = node\n",
    "            node.next = node\n",
    "        else:\n",
    "            cur = self.head\n",
    "            while cur.next != self.head:\n",
    "                cur = cur.next\n",
    "            node.next = self.head\n",
    "            self.head = node\n",
    "            cur.next = self.head\n",
    "            \n",
    "    def append(self, data):\n",
    "        node = Node(data)\n",
    "        if self.isEmpty():\n",
    "            self.head = node\n",
    "            node.next = node\n",
    "        else:\n",
    "            cur = self.head\n",
    "            while cur.next != self.head:\n",
    "                cur = cur.next\n",
    "#           node.next = cur.next\n",
    "#           cur.next = node\n",
    "            cur.next = node\n",
    "            node.next = self.head\n",
    "            \n",
    "    def insert(self, pos, data):\n",
    "        if pos <= 0:\n",
    "            self.add(data)\n",
    "        elif pos > (self.length()-1):\n",
    "            self.append(data)\n",
    "        else:\n",
    "            count = 0\n",
    "            pre = self.head\n",
    "            node = Node(data)\n",
    "            while count < (pos-1):\n",
    "                count += 1\n",
    "                pre = pre.next\n",
    "            node.next = pre.next\n",
    "            pre.next = node\n",
    "            \n",
    "    def search(self, data):\n",
    "        if self.isEmpty():\n",
    "            return False\n",
    "        cur = self.head\n",
    "        while cur.next != self.head:\n",
    "            if cur.data == data:\n",
    "                return True\n",
    "            else:\n",
    "                cur = cur.next\n",
    "       \n",
    "        if cur.data == data:\n",
    "            return True\n",
    "        return False\n",
    "            \n",
    "    def remove(self, data):\n",
    "        if self.isEmpty():\n",
    "            return\n",
    "        cur = self.head\n",
    "        pre = None\n",
    "        while cur.next != self.head:\n",
    "            if cur.data == data:\n",
    "                if cur == self.head:\n",
    "                    # 头节点\n",
    "                    rear = self.head\n",
    "                    while rear.next != self.head:\n",
    "                        rear = rear.next\n",
    "                    self.head = cur.next\n",
    "                    rear.next = self.head\n",
    "                else:\n",
    "                    # 中间节点\n",
    "                    pre.next = cur.next\n",
    "                return\n",
    "            else:\n",
    "                pre = cur\n",
    "                cur = cur.next\n",
    "        # 尾节点\n",
    "        if cur.data == data:\n",
    "            if cur == self.head:\n",
    "                self.head = None\n",
    "            else:\n",
    "                pre.next = cur.next\n",
    "            \n",
    "            \n",
    "            \n",
    "\n",
    "if __name__ == \"__main__\":\n",
    "    cl = Single_cycle_linked_list()\n",
    "    cl.append(2)\n",
    "    cl.append(3)\n",
    "    cl.append(4)\n",
    "    cl.add(1)\n",
    "    cl.travel()\n",
    "    print(cl.length())\n",
    "    cl.insert(4,-1)\n",
    "    cl.travel()\n",
    "    print(cl.search(-1))\n",
    "    cl.remove(1)\n",
    "    cl.travel()\n",
    "    "
   ]
  },
  {
   "cell_type": "code",
   "execution_count": 17,
   "metadata": {},
   "outputs": [
    {
     "name": "stdout",
     "output_type": "stream",
     "text": [
      "0 1 2 3 4 5 6 7 8 9  \n",
      "0 1 3 7 8 4 9 2 5 6  \n",
      "7 3 8 1 9 4 0 5 2 6  \n",
      "7 8 3 9 4 1 5 6 2 0 "
     ]
    }
   ],
   "source": [
    "#### Binary Tree\n",
    "class Node(object):\n",
    "    def __init__(self, data):\n",
    "        self.data = data\n",
    "        self.lchild = None\n",
    "        self.rchild = None\n",
    "        \n",
    "class Tree(object):\n",
    "    def __init__(self):\n",
    "        self.root = None\n",
    "        \n",
    "    def add(self, data):\n",
    "        node = Node(data)\n",
    "        if self.root is None:\n",
    "            self.root = node\n",
    "            return\n",
    "        queue = [self.root]\n",
    "        while queue:\n",
    "            cur_node = queue.pop(0)\n",
    "            if cur_node.lchild is None:\n",
    "                cur_node.lchild = node\n",
    "                return\n",
    "            else:\n",
    "                queue.append(cur_node.lchild)\n",
    "            if cur_node.rchild is None:\n",
    "                cur_node.rchild = node\n",
    "                return\n",
    "            else:\n",
    "                queue.append(cur_node.rchild)\n",
    "                \n",
    "    def breadth_travel(self):\n",
    "        queue =[self.root]\n",
    "        if self.root is None:\n",
    "            return\n",
    "        while queue:\n",
    "            cur_node = queue.pop(0)\n",
    "            print(cur_node.data, end=\" \")\n",
    "            if cur_node.lchild is not None:\n",
    "                queue.append(cur_node.lchild)\n",
    "            if cur_node.rchild is not None:\n",
    "                queue.append(cur_node.rchild)\n",
    "    \n",
    "    def preorder(self, node):\n",
    "        if node is None:\n",
    "            return\n",
    "        print(node.data, end=\" \")\n",
    "        self.preorder(node.lchild)\n",
    "        self.preorder(node.rchild)\n",
    "        \n",
    "    def inorder(self, node):\n",
    "        if node is None:\n",
    "            return\n",
    "        self.inorder(node.lchild)\n",
    "        print(node.data, end=\" \")\n",
    "        self.inorder(node.rchild)\n",
    "    \n",
    "    def postorder(self, node):\n",
    "        if node is None:\n",
    "            return\n",
    "        self.postorder(node.lchild)\n",
    "        self.postorder(node.rchild)\n",
    "        print(node.data, end=\" \")\n",
    "        \n",
    "if __name__ == \"__main__\":\n",
    "    tree = Tree()\n",
    "    tree.add(0)\n",
    "    tree.add(1)\n",
    "    tree.add(2)\n",
    "    tree.add(3)\n",
    "    tree.add(4)\n",
    "    tree.add(5)\n",
    "    tree.add(6)\n",
    "    tree.add(7)\n",
    "    tree.add(8)\n",
    "    tree.add(9)\n",
    "    tree.breadth_travel()\n",
    "    print(\" \")\n",
    "    tree.preorder(tree.root)\n",
    "    print(\" \")\n",
    "    tree.inorder(tree.root)\n",
    "    print(\" \")\n",
    "    tree.postorder(tree.root)\n"
   ]
  },
  {
   "cell_type": "code",
   "execution_count": 2,
   "metadata": {},
   "outputs": [
    {
     "name": "stdout",
     "output_type": "stream",
     "text": [
      "[1, 2, 4, 5, 6, 7, 8, 9, 0]\n",
      "4\n",
      "6\n"
     ]
    }
   ],
   "source": [
    "# Delete Repeat Elements\n",
    "# Use new list, get the list\n",
    "a=[1,2,4,2,4,5,6,5,7,8,9,0]\n",
    "b={}\n",
    "b = b.fromkeys(a)\n",
    "c = list(b.keys())\n",
    "c\n",
    "\n",
    "# Sorted array\n",
    "# Don't use new list, get the length of the list\n",
    "def removeDuplicates1(nums):\n",
    "    cur = 0\n",
    "    for i in range(1, len(nums)):\n",
    "        if nums[cur] != nums[i]:\n",
    "            cur += 1\n",
    "            nums[cur] = nums[i]\n",
    "    return cur+1\n",
    "\n",
    "def removeDuplicates2(nums):\n",
    "    cur = 0\n",
    "    count = 0\n",
    "    for i in range(1, len(nums)):\n",
    "        if nums[cur] == nums[i]:\n",
    "            count += 1\n",
    "            if count <= 2:\n",
    "                cur += 1\n",
    "                nums[cur] = nums[i]\n",
    "        else:\n",
    "            count = 1\n",
    "            cur += 1\n",
    "            nums[cur] = nums[i]\n",
    "    return cur+1\n",
    "\n",
    "print(c)\n",
    "print(removeDuplicates1([0,1,1,2,2,3]))\n",
    "print(removeDuplicates2([0,1,1,1,2,2,2,3]))"
   ]
  },
  {
   "cell_type": "code",
   "execution_count": 10,
   "metadata": {},
   "outputs": [
    {
     "name": "stdout",
     "output_type": "stream",
     "text": [
      "[[-2, 1, 1], [-1, 0, 1]]\n"
     ]
    }
   ],
   "source": [
    "# 3 Sum\n",
    "def ThreeSum(nums):\n",
    "        list = []\n",
    "        nums.sort()\n",
    "        for a in range(len(nums)-2):\n",
    "            if nums[a] > 0:\n",
    "                break\n",
    "            if a > 0 and nums[a] == nums[a-1]:\n",
    "                continue\n",
    "            b = a + 1\n",
    "            c = len(nums) - 1\n",
    "            while b < c:\n",
    "                sum = nums[a] + nums[b] +nums[c]\n",
    "                if sum == 0:\n",
    "                    list.append([nums[a], nums[b], nums[c]])\n",
    "                    while b < c and nums[b] == nums[b+1]:\n",
    "                        b += 1r\n",
    "                    while b < c and nums[c] == nums[c-1]:\n",
    "                        c -= 1\n",
    "                    b = b + 1\n",
    "                    c = c - 1\n",
    "                else:\n",
    "                    if sum < 0:\n",
    "                        b = b + 1\n",
    "                    else:\n",
    "                        c = c - 1\n",
    "        return list\n",
    "print(ThreeSum([-2,-1,0,1,1,1,1]))"
   ]
  },
  {
   "cell_type": "code",
   "execution_count": 4,
   "metadata": {},
   "outputs": [
    {
     "name": "stdout",
     "output_type": "stream",
     "text": [
      "2\n"
     ]
    }
   ],
   "source": [
    "# Remove Elements_1\n",
    "def removeElement(nums, val):\n",
    "    length = 0\n",
    "    for i in range(len(nums)):\n",
    "        if nums[i] != val:\n",
    "            nums[length] = nums[i]\n",
    "            length += 1\n",
    "    return length\n",
    "    \n",
    "print(removeElement([3,2,2,3],3))"
   ]
  },
  {
   "cell_type": "code",
   "execution_count": 6,
   "metadata": {},
   "outputs": [
    {
     "name": "stdout",
     "output_type": "stream",
     "text": [
      "2\n"
     ]
    }
   ],
   "source": [
    "# Remove Elements_2\n",
    "def removeElement(nums, val):\n",
    "    try:\n",
    "        while True:\n",
    "            nums.remove(val)\n",
    "    except:\n",
    "        return len(nums) \n",
    "    \n",
    "print(removeElement([3,2,2,3],3))"
   ]
  },
  {
   "cell_type": "code",
   "execution_count": 4,
   "metadata": {},
   "outputs": [
    {
     "name": "stdout",
     "output_type": "stream",
     "text": [
      "['KFC', 'Shogun']\n"
     ]
    }
   ],
   "source": [
    "# Minimum Index Sum of Two Lists\n",
    "def findRestaurant(list1, list2):\n",
    "    ans = []\n",
    "    dict = {}\n",
    "    for i, item in enumerate(list1):\n",
    "        dict[item] = i\n",
    "    min_sum = len(list1) + len(list2)\n",
    "    for i, item in enumerate(list2):\n",
    "        if item not in dict:\n",
    "            continue\n",
    "        cur_sum = i + dict[item]\n",
    "        if cur_sum < min_sum:\n",
    "            ans = [item]\n",
    "            min_sum = cur_sum\n",
    "        elif cur_sum == min_sum:\n",
    "            ans.append(item)\n",
    "    return ans\n",
    "\n",
    "print(findRestaurant([\"Shogun\", \"KFC\", \"Burger King\", \"Papa Johns\"], [\"KFC\", \"Shogun\", \"Burger King\"]))"
   ]
  },
  {
   "cell_type": "code",
   "execution_count": 2,
   "metadata": {},
   "outputs": [
    {
     "name": "stdout",
     "output_type": "stream",
     "text": [
      "3\n"
     ]
    }
   ],
   "source": [
    "# Search insert position\n",
    "def searchInsert(nums, target):\n",
    "    if target > nums[-1]:\n",
    "        return len(nums)\n",
    "    if target <= nums[0]:\n",
    "        return 0\n",
    "    \n",
    "    left = 0\n",
    "    right = len(nums) - 1\n",
    "    while left < right:\n",
    "        mid = (left + right)//2\n",
    "        if nums[mid] >= target:\n",
    "            right = mid\n",
    "        elif nums[mid] < target:\n",
    "            left = mid + 1\n",
    "        else:\n",
    "            return mid\n",
    "    return left\n",
    "\n",
    "print(searchInsert([1,3,5,6], 6))"
   ]
  },
  {
   "cell_type": "code",
   "execution_count": 22,
   "metadata": {},
   "outputs": [
    {
     "name": "stdout",
     "output_type": "stream",
     "text": [
      "['o', 'l', 'l', 'e', 'h']\n",
      "bacdfeg\n",
      "holle\n"
     ]
    }
   ],
   "source": [
    "# reverse string\n",
    "\n",
    "def reverseString(s):\n",
    "    start = 0\n",
    "    end = len(s)-1\n",
    "    while start < end:\n",
    "        s[start], s[end] = s[end], s[start]\n",
    "        start += 1\n",
    "        end -= 1\n",
    "    return s\n",
    "\n",
    "def reverseStr(s, k):\n",
    "    res = \"\"\n",
    "    i = 0\n",
    "    while i < len(s):\n",
    "        res = res + s[i:i+k][::-1]\n",
    "        res = res + s[i+k:i+2*k]\n",
    "        i += 2*k\n",
    "    return res\n",
    "\n",
    "def reverseVowels(s):\n",
    "    vowels = ['a', 'e', 'i', 'o', 'u', 'A', 'E', 'I', 'O', 'U']\n",
    "    ls = list(s)\n",
    "    start = 0\n",
    "    end = len(ls) - 1\n",
    "    while start < end:\n",
    "        if ls[start] not in vowels:\n",
    "            start += 1\n",
    "        if ls[end] not in vowels:\n",
    "            end -= 1\n",
    "        if ls[start] in vowels and ls[end] in vowels:\n",
    "            ls[start], ls[end] = ls[end], ls[start]\n",
    "            start += 1\n",
    "            end -= 1\n",
    "    res = \"\".join(ls)\n",
    "    return res\n",
    "\n",
    "print(reverseString([\"h\",\"e\",\"l\",\"l\",\"o\"]))\n",
    "print(reverseStr(\"abcdefg\", 2))\n",
    "print(reverseVowels(\"hello\"))"
   ]
  },
  {
   "cell_type": "code",
   "execution_count": 1,
   "metadata": {},
   "outputs": [
    {
     "name": "stdout",
     "output_type": "stream",
     "text": [
      "[0, 0, 0, 1, 1, 1, 2, 2]\n"
     ]
    }
   ],
   "source": [
    "# Sort color\n",
    "def sortColors(nums):\n",
    "    if nums == []:\n",
    "        return\n",
    "    p0 = 0\n",
    "    p2 = len(nums) - 1\n",
    "    i = 0\n",
    "    while i <= p2:\n",
    "        if nums[i] == 0:\n",
    "            nums[p0], nums[i] = nums[i], nums[p0]\n",
    "            p0 += 1\n",
    "            i += 1\n",
    "        elif nums[i] == 2:\n",
    "            nums[i], nums[p2] = nums[p2], nums[i]\n",
    "            p2 -= 1\n",
    "        else:\n",
    "            i += 1\n",
    "    return nums\n",
    "\n",
    "print(sortColors([2,1,1,0,0,2,1,0]))"
   ]
  },
  {
   "cell_type": "code",
   "execution_count": 17,
   "metadata": {},
   "outputs": [
    {
     "name": "stdout",
     "output_type": "stream",
     "text": [
      "False\n"
     ]
    }
   ],
   "source": [
    "# Long Pressed Name\n",
    "def isLongPressedName(name, typed):\n",
    "    i = 0\n",
    "    j = 0\n",
    "    while i < len(name):\n",
    "        A = name[i]\n",
    "        count_i = 0\n",
    "        count_j = 0\n",
    "        while i < len(name) and name[i] == A:\n",
    "            i += 1\n",
    "            count_i += 1\n",
    "        while j < len(typed) and typed[j] == A:\n",
    "            j += 1\n",
    "            count_j += 1\n",
    "        if count_i > count_j:\n",
    "            return False\n",
    "    return True\n",
    "\n",
    "print(isLongPressedName(\"alex\", \"aaleaexx\"))"
   ]
  }
 ],
 "metadata": {
  "kernelspec": {
   "display_name": "Python 3",
   "language": "python",
   "name": "python3"
  },
  "language_info": {
   "codemirror_mode": {
    "name": "ipython",
    "version": 3
   },
   "file_extension": ".py",
   "mimetype": "text/x-python",
   "name": "python",
   "nbconvert_exporter": "python",
   "pygments_lexer": "ipython3",
   "version": "3.7.0"
  }
 },
 "nbformat": 4,
 "nbformat_minor": 2
}
